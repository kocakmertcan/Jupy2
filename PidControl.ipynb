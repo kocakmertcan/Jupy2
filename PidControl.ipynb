{
 "cells": [
  {
   "cell_type": "markdown",
   "metadata": {},
   "source": [
    "# MEE427 PID CONTROL"
   ]
  },
  {
   "cell_type": "markdown",
   "metadata": {},
   "source": [
    "First you should import needed libraries."
   ]
  },
  {
   "cell_type": "code",
   "execution_count": null,
   "metadata": {},
   "outputs": [],
   "source": [
    "import numpy as np\n",
    "from scipy import signal\n",
    "import matplotlib.pyplot as plt\n",
    "from scipy.integrate import odeint"
   ]
  },
  {
   "cell_type": "markdown",
   "metadata": {},
   "source": [
    "There are two types of systems in this Jupyter notebook; first order and second order."
   ]
  },
  {
   "cell_type": "markdown",
   "metadata": {},
   "source": [
    "For the first order system, general transfer function can be found below. _A_, _B_ and _C_ variables should be fulfilled according to your system."
   ]
  },
  {
   "cell_type": "markdown",
   "metadata": {},
   "source": [
    "$G(s)=\\frac{A}{Bs+C}$"
   ]
  },
  {
   "cell_type": "markdown",
   "metadata": {},
   "source": [
    "Input parameters of first and second order transfer functions;\n",
    "- _y:_ initial response \n",
    "- _t:_ time interval\n",
    "- _num:_ numerator coefficients of system transfer function\n",
    "- _den:_ denumerator coefficients of system transfer function\n",
    "- _u:_ input signal in time interval"
   ]
  },
  {
   "cell_type": "code",
   "execution_count": null,
   "metadata": {},
   "outputs": [],
   "source": [
    "def FirstOrderModel(y,t,num,den,u):\n",
    "    Kp = num/den[1]\n",
    "    tau = den[0]/den[1]\n",
    "    return (-y+Kp*u)/tau"
   ]
  },
  {
   "cell_type": "code",
   "execution_count": null,
   "metadata": {},
   "outputs": [],
   "source": [
    "def FirstOrderFeedback(simulationTime,timeStep,yRef,num,den):\n",
    "    elapsedTime = 0\n",
    "    response = 0\n",
    "    tSteps = []\n",
    "    ySteps = []\n",
    "    tSteps.append(elapsedTime)\n",
    "    ySteps.append(response)\n",
    "    u = yRef\n",
    "    loopSteps = int(simulationTime/timeStep)\n",
    "\n",
    "    for i in range(loopSteps):\n",
    "        t1 = np.linspace(elapsedTime,elapsedTime+timeStep,2)\n",
    "        y1 = odeint(FirstOrderModel,response,t1,args=(num,den,u))\n",
    "        u = yRef - y1[-1]\n",
    "        elapsedTime = t1[-1]\n",
    "        response = y1[-1]\n",
    "        tSteps.append(elapsedTime)\n",
    "        ySteps.extend(response)\n",
    "    return [tSteps, ySteps]"
   ]
  },
  {
   "cell_type": "markdown",
   "metadata": {},
   "source": [
    "You should specify numerator and denumerator of your system by specifying _num_ and _den_ variables.\n",
    "- _num_ = _A_\n",
    "- _den_ = [_B_,_C_]"
   ]
  },
  {
   "cell_type": "markdown",
   "metadata": {},
   "source": [
    "Simulation time, fixed time step and reference step input should also be specified for the second order system."
   ]
  },
  {
   "cell_type": "code",
   "execution_count": null,
   "metadata": {},
   "outputs": [],
   "source": [
    "# MODIFY HERE\n",
    "num = 1\n",
    "den = [1,1]\n",
    "simulationTime = 10\n",
    "timeStep = 0.01\n",
    "yRef = 1\n"
   ]
  },
  {
   "cell_type": "code",
   "execution_count": null,
   "metadata": {},
   "outputs": [],
   "source": [
    "if isinstance(num,list) == False and len(den) == 2:\n",
    "    [tSteps,ySteps] = FirstOrderFeedback(simulationTime,timeStep,yRef,num,den)\n",
    "\n",
    "    plt.figure(1)\n",
    "    plt.plot(tSteps,ySteps,'r-',linewidth=1,label='ODE Integrator')\n",
    "    plt.xlabel('Time')\n",
    "    plt.ylabel('Response(y)')\n",
    "    plt.show()"
   ]
  },
  {
   "cell_type": "markdown",
   "metadata": {},
   "source": [
    "For the second order system, general transfer function can be found below. _A_, _B_, _C_ and _D_ variables should be fulfilled according to your system."
   ]
  },
  {
   "cell_type": "markdown",
   "metadata": {},
   "source": [
    "$G(s)=\\frac{A}{Bs^{2}+Cs+D}$"
   ]
  },
  {
   "cell_type": "code",
   "execution_count": null,
   "metadata": {},
   "outputs": [],
   "source": [
    "def SecondOrderModel(x,t,num,den,u):\n",
    "    y = x[0]\n",
    "    dydt = x[1]\n",
    "    Kp = num/den[2]\n",
    "    tau = (den[0]/den[2])**0.5\n",
    "    zeta = den[1]/(2*den[2]*tau)\n",
    "    dy2dt2 = (-2.0*zeta*tau*dydt - y + Kp*u)/tau**2\n",
    "    return [dydt,dy2dt2]"
   ]
  },
  {
   "cell_type": "code",
   "execution_count": null,
   "metadata": {},
   "outputs": [],
   "source": [
    "def SecondOrderFeedback(simulationTime,timeStep,yRef,num,den):\n",
    "    elapsedTime = 0\n",
    "    response = [0,0]\n",
    "    tSteps = []\n",
    "    ySteps = []\n",
    "    tSteps.append(elapsedTime)\n",
    "    ySteps.append(0)\n",
    "    u = yRef\n",
    "    loopSteps = int(simulationTime/timeStep)    \n",
    "        \n",
    "    for i in range(loopSteps):\n",
    "        t2 = np.linspace(elapsedTime,elapsedTime+timeStep,2)\n",
    "        x2 = odeint(SecondOrderModel,response,t2,args=(num, den, u))\n",
    "        y2 = x2[:,0]\n",
    "        u = yRef - y2[-1]\n",
    "        elapsedTime = t2[-1]\n",
    "        response = y2[-1]\n",
    "        tSteps.append(elapsedTime)\n",
    "        ySteps.append(response)\n",
    "        response = [y2[-1],x2[-1][-1]]\n",
    "    return [tSteps, ySteps]"
   ]
  },
  {
   "cell_type": "markdown",
   "metadata": {},
   "source": [
    "You should specify numerator and denumerator of your system by specifying _num_ and _den_ variables.\n",
    "- _num_ = _A_\n",
    "- _den_ = [_B_,_C_,_D_]"
   ]
  },
  {
   "cell_type": "markdown",
   "metadata": {},
   "source": [
    "Simulation time, fixed time step and reference step input should also be specified for the second order system."
   ]
  },
  {
   "cell_type": "code",
   "execution_count": null,
   "metadata": {},
   "outputs": [],
   "source": [
    "# MODIFY HERE\n",
    "num = 1\n",
    "den = [1,1,1]\n",
    "simulationTime = 10\n",
    "timeStep = 0.01\n",
    "yRef = 1"
   ]
  },
  {
   "cell_type": "code",
   "execution_count": null,
   "metadata": {},
   "outputs": [],
   "source": [
    "if isinstance(num,list) == False and len(den) == 3:\n",
    "    [tSteps,ySteps] = SecondOrderFeedback(simulationTime,timeStep,yRef,num,den)\n",
    "\n",
    "    plt.figure(2)\n",
    "    plt.plot(tSteps,ySteps,'r-',linewidth=1,label='ODE Integrator')\n",
    "    plt.xlabel('Time')\n",
    "    plt.ylabel('Response(y)')\n",
    "    plt.show()"
   ]
  }
 ],
 "metadata": {
  "kernelspec": {
   "display_name": "Python 3",
   "language": "python",
   "name": "python3"
  },
  "language_info": {
   "codemirror_mode": {
    "name": "ipython",
    "version": 3
   },
   "file_extension": ".py",
   "mimetype": "text/x-python",
   "name": "python",
   "nbconvert_exporter": "python",
   "pygments_lexer": "ipython3",
   "version": "3.6.9"
  }
 },
 "nbformat": 4,
 "nbformat_minor": 4
}
